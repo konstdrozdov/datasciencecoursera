{
 "cells": [
  {
   "cell_type": "code",
   "execution_count": 1,
   "metadata": {},
   "outputs": [
    {
     "name": "stdout",
     "output_type": "stream",
     "text": [
      "Writing mapper.py\n"
     ]
    }
   ],
   "source": [
    "%%writefile mapper.py\n",
    "\n",
    "import sys\n",
    "import re\n",
    "\n",
    "reload(sys)\n",
    "sys.setdefaultencoding('utf-8') # required to convert to unicode\n",
    "\n",
    "for line in sys.stdin:\n",
    "    try:\n",
    "        article_id, text = unicode(line.strip()).split('\\t', 1)\n",
    "    except ValueError as e:\n",
    "        continue\n",
    "    words = re.split(\"\\W*\\s+\\W*\", text, flags=re.UNICODE)\n",
    "    for word in words:\n",
    "        print >> sys.stderr, \"reporter:counter:Wiki stats,Total words,%d\" % 1\n",
    "        print \"%s\\t%d\" % (word.lower(), 1)"
   ]
  },
  {
   "cell_type": "code",
   "execution_count": 2,
   "metadata": {},
   "outputs": [
    {
     "name": "stdout",
     "output_type": "stream",
     "text": [
      "Writing reducer.py\n"
     ]
    }
   ],
   "source": [
    "%%writefile reducer.py\n",
    "\n",
    "import sys\n",
    "\n",
    "current_key = None\n",
    "word_sum = 0"
   ]
  },
  {
   "cell_type": "code",
   "execution_count": 3,
   "metadata": {},
   "outputs": [
    {
     "name": "stdout",
     "output_type": "stream",
     "text": [
      "Appending to reducer.py\n"
     ]
    }
   ],
   "source": [
    "%%writefile -a reducer.py\n",
    "\n",
    "for line in sys.stdin:\n",
    "    try:\n",
    "        key, count = line.strip().split('\\t', 1)\n",
    "        count = int(count)\n",
    "    except ValueError as e:\n",
    "        continue\n",
    "    if current_key != key:\n",
    "        if current_key:\n",
    "            print \"%s\\t%d\" % (current_key, word_sum)\n",
    "        word_sum = 0\n",
    "        current_key = key\n",
    "    word_sum += count\n",
    "\n",
    "if current_key:\n",
    "    print \"%s\\t%d\" % (current_key, word_sum)"
   ]
  },
  {
   "cell_type": "code",
   "execution_count": 6,
   "metadata": {},
   "outputs": [
    {
     "name": "stdout",
     "output_type": "stream",
     "text": [
      "Writing mapper_rating.py\n"
     ]
    }
   ],
   "source": [
    "%%writefile mapper_rating.py\n",
    "\n",
    "import sys\n",
    "import re\n",
    "\n",
    "reload(sys)\n",
    "sys.setdefaultencoding('utf-8') # required to convert to unicode\n",
    "\n",
    "for line in sys.stdin:\n",
    "    try:\n",
    "        word, count = line.strip().split('\\t', 1)\n",
    "        count = int(count)\n",
    "    except ValueError as e:\n",
    "        continue\n",
    "        \n",
    "    print \"%d\\t%s\" % (count, word)"
   ]
  },
  {
   "cell_type": "code",
   "execution_count": 7,
   "metadata": {},
   "outputs": [
    {
     "name": "stdout",
     "output_type": "stream",
     "text": [
      "Writing reducer_rating.py\n"
     ]
    }
   ],
   "source": [
    "%%writefile reducer_rating.py\n",
    "\n",
    "import sys\n",
    "\n",
    "for line in sys.stdin:\n",
    "    try:\n",
    "        count, word = line.strip().split('\\t', 1)\n",
    "        count = int(count)\n",
    "    except ValueError as e:\n",
    "        continue\n",
    "        \n",
    "    print \"%s\\t%d\" % (word, count)"
   ]
  },
  {
   "cell_type": "code",
   "execution_count": 4,
   "metadata": {},
   "outputs": [
    {
     "name": "stdout",
     "output_type": "stream",
     "text": [
      "Found 1 items\r\n",
      "drwxrwxrwx   - jovyan supergroup          0 2017-10-17 13:15 /data/wiki/en_articles_part\r\n"
     ]
    }
   ],
   "source": [
    "! hdfs dfs -ls /data/wiki"
   ]
  },
  {
   "cell_type": "code",
   "execution_count": 8,
   "metadata": {},
   "outputs": [
    {
     "name": "stdout",
     "output_type": "stream",
     "text": [
      "is\t126420\n"
     ]
    },
    {
     "name": "stderr",
     "output_type": "stream",
     "text": [
      "rm: `wordcount_result_for_rating': No such file or directory\n",
      "18/05/06 10:01:37 INFO client.RMProxy: Connecting to ResourceManager at /0.0.0.0:8032\n",
      "18/05/06 10:01:37 INFO client.RMProxy: Connecting to ResourceManager at /0.0.0.0:8032\n",
      "18/05/06 10:01:38 INFO mapred.FileInputFormat: Total input files to process : 1\n",
      "18/05/06 10:01:38 INFO mapreduce.JobSubmitter: number of splits:2\n",
      "18/05/06 10:01:38 INFO mapreduce.JobSubmitter: Submitting tokens for job: job_1525499221321_0002\n",
      "18/05/06 10:01:39 INFO impl.YarnClientImpl: Submitted application application_1525499221321_0002\n",
      "18/05/06 10:01:39 INFO mapreduce.Job: The url to track the job: http://2a1c9e404017:8088/proxy/application_1525499221321_0002/\n",
      "18/05/06 10:01:39 INFO mapreduce.Job: Running job: job_1525499221321_0002\n",
      "18/05/06 10:01:45 INFO mapreduce.Job: Job job_1525499221321_0002 running in uber mode : false\n",
      "18/05/06 10:01:45 INFO mapreduce.Job:  map 0% reduce 0%\n",
      "18/05/06 10:02:01 INFO mapreduce.Job:  map 30% reduce 0%\n",
      "18/05/06 10:02:07 INFO mapreduce.Job:  map 45% reduce 0%\n",
      "18/05/06 10:02:13 INFO mapreduce.Job:  map 47% reduce 0%\n",
      "18/05/06 10:02:19 INFO mapreduce.Job:  map 62% reduce 0%\n",
      "18/05/06 10:02:25 INFO mapreduce.Job:  map 67% reduce 0%\n",
      "18/05/06 10:02:26 INFO mapreduce.Job:  map 83% reduce 0%\n",
      "18/05/06 10:02:27 INFO mapreduce.Job:  map 100% reduce 0%\n",
      "18/05/06 10:02:31 INFO mapreduce.Job:  map 100% reduce 25%\n",
      "18/05/06 10:02:32 INFO mapreduce.Job:  map 100% reduce 38%\n",
      "18/05/06 10:02:33 INFO mapreduce.Job:  map 100% reduce 50%\n",
      "18/05/06 10:02:34 INFO mapreduce.Job:  map 100% reduce 63%\n",
      "18/05/06 10:02:35 INFO mapreduce.Job:  map 100% reduce 100%\n",
      "18/05/06 10:02:36 INFO mapreduce.Job: Job job_1525499221321_0002 completed successfully\n",
      "18/05/06 10:02:36 INFO mapreduce.Job: Counters: 51\n",
      "\tFile System Counters\n",
      "\t\tFILE: Number of bytes read=17954826\n",
      "\t\tFILE: Number of bytes written=28257983\n",
      "\t\tFILE: Number of read operations=0\n",
      "\t\tFILE: Number of large read operations=0\n",
      "\t\tFILE: Number of write operations=0\n",
      "\t\tHDFS: Number of bytes read=76874501\n",
      "\t\tHDFS: Number of bytes written=5370513\n",
      "\t\tHDFS: Number of read operations=30\n",
      "\t\tHDFS: Number of large read operations=0\n",
      "\t\tHDFS: Number of write operations=16\n",
      "\tJob Counters \n",
      "\t\tKilled reduce tasks=1\n",
      "\t\tLaunched map tasks=2\n",
      "\t\tLaunched reduce tasks=8\n",
      "\t\tData-local map tasks=2\n",
      "\t\tTotal time spent by all maps in occupied slots (ms)=78133\n",
      "\t\tTotal time spent by all reduces in occupied slots (ms)=24845\n",
      "\t\tTotal time spent by all map tasks (ms)=78133\n",
      "\t\tTotal time spent by all reduce tasks (ms)=24845\n",
      "\t\tTotal vcore-milliseconds taken by all map tasks=78133\n",
      "\t\tTotal vcore-milliseconds taken by all reduce tasks=24845\n",
      "\t\tTotal megabyte-milliseconds taken by all map tasks=80008192\n",
      "\t\tTotal megabyte-milliseconds taken by all reduce tasks=25441280\n",
      "\tMap-Reduce Framework\n",
      "\t\tMap input records=4100\n",
      "\t\tMap output records=11937375\n",
      "\t\tMap output bytes=97842436\n",
      "\t\tMap output materialized bytes=8952763\n",
      "\t\tInput split bytes=228\n",
      "\t\tCombine input records=11937375\n",
      "\t\tCombine output records=640011\n",
      "\t\tReduce input groups=427175\n",
      "\t\tReduce shuffle bytes=8952763\n",
      "\t\tReduce input records=640011\n",
      "\t\tReduce output records=427175\n",
      "\t\tSpilled Records=1920033\n",
      "\t\tShuffled Maps =16\n",
      "\t\tFailed Shuffles=0\n",
      "\t\tMerged Map outputs=16\n",
      "\t\tGC time elapsed (ms)=1248\n",
      "\t\tCPU time spent (ms)=148400\n",
      "\t\tPhysical memory (bytes) snapshot=2342383616\n",
      "\t\tVirtual memory (bytes) snapshot=20220821504\n",
      "\t\tTotal committed heap usage (bytes)=1589116928\n",
      "\tShuffle Errors\n",
      "\t\tBAD_ID=0\n",
      "\t\tCONNECTION=0\n",
      "\t\tIO_ERROR=0\n",
      "\t\tWRONG_LENGTH=0\n",
      "\t\tWRONG_MAP=0\n",
      "\t\tWRONG_REDUCE=0\n",
      "\tWiki stats\n",
      "\t\tTotal words=11937375\n",
      "\tFile Input Format Counters \n",
      "\t\tBytes Read=76874273\n",
      "\tFile Output Format Counters \n",
      "\t\tBytes Written=5370513\n",
      "18/05/06 10:02:36 INFO streaming.StreamJob: Output directory: wordcount_result_for_rating\n",
      "rm: `wordcount_result_for_rating_2': No such file or directory\n",
      "18/05/06 10:02:40 INFO client.RMProxy: Connecting to ResourceManager at /0.0.0.0:8032\n",
      "18/05/06 10:02:40 INFO client.RMProxy: Connecting to ResourceManager at /0.0.0.0:8032\n",
      "18/05/06 10:02:40 INFO mapred.FileInputFormat: Total input files to process : 8\n",
      "18/05/06 10:02:40 INFO mapreduce.JobSubmitter: number of splits:8\n",
      "18/05/06 10:02:41 INFO Configuration.deprecation: map.output.key.field.separator is deprecated. Instead, use mapreduce.map.output.key.field.separator\n",
      "18/05/06 10:02:41 INFO mapreduce.JobSubmitter: Submitting tokens for job: job_1525499221321_0003\n",
      "18/05/06 10:02:41 INFO impl.YarnClientImpl: Submitted application application_1525499221321_0003\n",
      "18/05/06 10:02:41 INFO mapreduce.Job: The url to track the job: http://2a1c9e404017:8088/proxy/application_1525499221321_0003/\n",
      "18/05/06 10:02:41 INFO mapreduce.Job: Running job: job_1525499221321_0003\n",
      "18/05/06 10:02:47 INFO mapreduce.Job: Job job_1525499221321_0003 running in uber mode : false\n",
      "18/05/06 10:02:47 INFO mapreduce.Job:  map 0% reduce 0%\n",
      "18/05/06 10:02:53 INFO mapreduce.Job:  map 75% reduce 0%\n",
      "18/05/06 10:02:56 INFO mapreduce.Job:  map 100% reduce 0%\n",
      "18/05/06 10:02:59 INFO mapreduce.Job:  map 100% reduce 100%\n",
      "18/05/06 10:03:00 INFO mapreduce.Job: Job job_1525499221321_0003 completed successfully\n",
      "18/05/06 10:03:00 INFO mapreduce.Job: Counters: 49\n",
      "\tFile System Counters\n",
      "\t\tFILE: Number of bytes read=6224888\n",
      "\t\tFILE: Number of bytes written=13712175\n",
      "\t\tFILE: Number of read operations=0\n",
      "\t\tFILE: Number of large read operations=0\n",
      "\t\tFILE: Number of write operations=0\n",
      "\t\tHDFS: Number of bytes read=5371505\n",
      "\t\tHDFS: Number of bytes written=5370513\n",
      "\t\tHDFS: Number of read operations=27\n",
      "\t\tHDFS: Number of large read operations=0\n",
      "\t\tHDFS: Number of write operations=2\n",
      "\tJob Counters \n",
      "\t\tLaunched map tasks=8\n",
      "\t\tLaunched reduce tasks=1\n",
      "\t\tData-local map tasks=8\n",
      "\t\tTotal time spent by all maps in occupied slots (ms)=24505\n",
      "\t\tTotal time spent by all reduces in occupied slots (ms)=3870\n",
      "\t\tTotal time spent by all map tasks (ms)=24505\n",
      "\t\tTotal time spent by all reduce tasks (ms)=3870\n",
      "\t\tTotal vcore-milliseconds taken by all map tasks=24505\n",
      "\t\tTotal vcore-milliseconds taken by all reduce tasks=3870\n",
      "\t\tTotal megabyte-milliseconds taken by all map tasks=25093120\n",
      "\t\tTotal megabyte-milliseconds taken by all reduce tasks=3962880\n",
      "\tMap-Reduce Framework\n",
      "\t\tMap input records=427175\n",
      "\t\tMap output records=427175\n",
      "\t\tMap output bytes=5370522\n",
      "\t\tMap output materialized bytes=6224930\n",
      "\t\tInput split bytes=992\n",
      "\t\tCombine input records=0\n",
      "\t\tCombine output records=0\n",
      "\t\tReduce input groups=2075\n",
      "\t\tReduce shuffle bytes=6224930\n",
      "\t\tReduce input records=427175\n",
      "\t\tReduce output records=427175\n",
      "\t\tSpilled Records=854350\n",
      "\t\tShuffled Maps =8\n",
      "\t\tFailed Shuffles=0\n",
      "\t\tMerged Map outputs=8\n",
      "\t\tGC time elapsed (ms)=852\n",
      "\t\tCPU time spent (ms)=16280\n",
      "\t\tPhysical memory (bytes) snapshot=2586873856\n",
      "\t\tVirtual memory (bytes) snapshot=18110337024\n",
      "\t\tTotal committed heap usage (bytes)=1756364800\n",
      "\tShuffle Errors\n",
      "\t\tBAD_ID=0\n",
      "\t\tCONNECTION=0\n",
      "\t\tIO_ERROR=0\n",
      "\t\tWRONG_LENGTH=0\n",
      "\t\tWRONG_MAP=0\n",
      "\t\tWRONG_REDUCE=0\n",
      "\tFile Input Format Counters \n",
      "\t\tBytes Read=5370513\n",
      "\tFile Output Format Counters \n",
      "\t\tBytes Written=5370513\n",
      "18/05/06 10:03:00 INFO streaming.StreamJob: Output directory: wordcount_result_for_rating_2\n",
      "cat: Unable to write to output stream.\n"
     ]
    }
   ],
   "source": [
    "%%bash\n",
    "\n",
    "OUT_DIR=\"wordcount_result_for_rating\"\n",
    "NUM_REDUCERS=8\n",
    "\n",
    "hdfs dfs -rm -r -skipTrash ${OUT_DIR} > /dev/null\n",
    "\n",
    "yarn jar /opt/cloudera/parcels/CDH/lib/hadoop-mapreduce/hadoop-streaming.jar \\\n",
    "    -D mapred.jab.name=\"Streaming wordCount\" \\\n",
    "    -D mapreduce.job.reduces=${NUM_REDUCERS} \\\n",
    "    -files mapper.py,reducer.py \\\n",
    "    -mapper \"python mapper.py\" \\\n",
    "    -combiner \"python reducer.py\" \\\n",
    "    -reducer \"python reducer.py\" \\\n",
    "    -input /data/wiki/en_articles_part \\\n",
    "    -output ${OUT_DIR} > /dev/null\n",
    "\n",
    "\n",
    "OUT_DIR_2=\"wordcount_result_for_rating_2\"\n",
    "NUM_REDUCERS=1\n",
    "\n",
    "hdfs dfs -rm -r -skipTrash ${OUT_DIR_2} > /dev/null\n",
    "\n",
    "yarn jar /opt/cloudera/parcels/CDH/lib/hadoop-mapreduce/hadoop-streaming.jar \\\n",
    "    -D mapred.jab.name=\"Streaming wordCount Rating\" \\\n",
    "    -D mapreduce.job.output.key.comparator.class=org.apache.hadoop.mapreduce.lib.partition.KeyFieldBasedComparator \\\n",
    "    -D map.output.key.field.separator=\\t \\\n",
    "    -D mapreduce.partition.keycomparator.options=-k1,1nr \\\n",
    "    -D mapreduce.job.reduces=${NUM_REDUCERS} \\\n",
    "    -files mapper_rating.py,reducer_rating.py \\\n",
    "    -mapper \"python mapper_rating.py\" \\\n",
    "    -reducer \"python reducer_rating.py\" \\\n",
    "    -input ${OUT_DIR} \\\n",
    "    -output ${OUT_DIR_2} > /dev/null\n",
    "\n",
    "hdfs dfs -cat ${OUT_DIR_2}/part-00000 | head -7 | tail -1"
   ]
  }
 ],
 "metadata": {
  "kernelspec": {
   "display_name": "Python 2",
   "language": "python",
   "name": "python2"
  },
  "language_info": {
   "codemirror_mode": {
    "name": "ipython",
    "version": 2
   },
   "file_extension": ".py",
   "mimetype": "text/x-python",
   "name": "python",
   "nbconvert_exporter": "python",
   "pygments_lexer": "ipython2",
   "version": "2.7.12"
  }
 },
 "nbformat": 4,
 "nbformat_minor": 2
}

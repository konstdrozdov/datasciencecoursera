{
 "cells": [
  {
   "cell_type": "code",
   "execution_count": 1,
   "metadata": {},
   "outputs": [
    {
     "name": "stdout",
     "output_type": "stream",
     "text": [
      "Overwriting mapper.py\n"
     ]
    }
   ],
   "source": [
    "%%writefile mapper.py\n",
    "\n",
    "import sys\n",
    "import re\n",
    "\n",
    "reload(sys)\n",
    "sys.setdefaultencoding('utf-8') # required to convert to unicode\n",
    "\n",
    "with open('stop_words_en.txt') as f:\n",
    "    stop_words = set(f.read().split())\n",
    "\n",
    "for line in sys.stdin:\n",
    "    try:\n",
    "        article_id, text = unicode(line.strip()).split('\\t', 1)\n",
    "    except ValueError as e:\n",
    "        continue\n",
    "    words = re.split(\"\\W*\\s+\\W*\", text, flags=re.UNICODE)\n",
    "    for word in words:\n",
    "        print >> sys.stderr, \"reporter:counter:wiki,total_words,%d\" % 1\n",
    "        if word in stop_words:\n",
    "            print >> sys.stderr, \"reporter:counter:wiki,stop_words,%d\" % 1\n",
    "        print \"%s\\t%d\" % (word.lower(), 1)"
   ]
  },
  {
   "cell_type": "code",
   "execution_count": 2,
   "metadata": {},
   "outputs": [
    {
     "name": "stdout",
     "output_type": "stream",
     "text": [
      "Writing get_stopword_percentage.py\n"
     ]
    }
   ],
   "source": [
    "%%writefile get_stopword_percentage.py\n",
    "import sys\n",
    "import re\n",
    "\n",
    "output_log = list(map(lambda x: x.strip(), sys.stdin.read().split()))\n",
    "\n",
    "pattern_tot = 'total_words='\n",
    "regexp_tot = re.compile(pattern_tot)\n",
    "\n",
    "pattern_stop = 'stop_words='\n",
    "regexp_stop = re.compile(pattern_stop)\n",
    "\n",
    "total_words = [int(x.replace(pattern_tot, '')) for x in output_log if regexp_tot.search(x)][0]\n",
    "stop_words = [int(x.replace(pattern_stop, '')) for x in output_log if regexp_stop.search(x)][0]\n",
    "\n",
    "print(stop_words / float(total_words) * 100)"
   ]
  },
  {
   "cell_type": "code",
   "execution_count": 3,
   "metadata": {},
   "outputs": [
    {
     "name": "stderr",
     "output_type": "stream",
     "text": [
      "rm: `wordcount_result_stopwords': No such file or directory\n"
     ]
    }
   ],
   "source": [
    "%%bash\n",
    "\n",
    "OUT_DIR=\"wordcount_result_stopwords\"\n",
    "NUM_REDUCERS=0\n",
    "\n",
    "hdfs dfs -rm -r -skipTrash ${OUT_DIR} > /dev/null\n",
    "\n",
    "yarn jar /opt/cloudera/parcels/CDH/lib/hadoop-mapreduce/hadoop-streaming.jar \\\n",
    "    -D mapred.jab.name=\"Streaming stopwords\" \\\n",
    "    -D mapreduce.job.reduces=${NUM_REDUCERS} \\\n",
    "    -files mapper.py,/datasets/stop_words_en.txt \\\n",
    "    -mapper \"python mapper.py\" \\\n",
    "    -input /data/wiki/en_articles_part \\\n",
    "    -output ${OUT_DIR} > /dev/null 2> output.log"
   ]
  },
  {
   "cell_type": "code",
   "execution_count": 4,
   "metadata": {},
   "outputs": [
    {
     "name": "stdout",
     "output_type": "stream",
     "text": [
      "38.44036900909957\n"
     ]
    },
    {
     "name": "stderr",
     "output_type": "stream",
     "text": [
      "18/05/06 10:12:08 INFO client.RMProxy: Connecting to ResourceManager at /0.0.0.0:8032\n",
      "18/05/06 10:12:08 INFO client.RMProxy: Connecting to ResourceManager at /0.0.0.0:8032\n",
      "18/05/06 10:12:08 INFO mapred.FileInputFormat: Total input files to process : 1\n",
      "18/05/06 10:12:08 INFO mapreduce.JobSubmitter: number of splits:2\n",
      "18/05/06 10:12:09 INFO mapreduce.JobSubmitter: Submitting tokens for job: job_1525499221321_0004\n",
      "18/05/06 10:12:09 INFO impl.YarnClientImpl: Submitted application application_1525499221321_0004\n",
      "18/05/06 10:12:09 INFO mapreduce.Job: The url to track the job: http://2a1c9e404017:8088/proxy/application_1525499221321_0004/\n",
      "18/05/06 10:12:09 INFO mapreduce.Job: Running job: job_1525499221321_0004\n",
      "18/05/06 10:12:15 INFO mapreduce.Job: Job job_1525499221321_0004 running in uber mode : false\n",
      "18/05/06 10:12:15 INFO mapreduce.Job:  map 0% reduce 0%\n",
      "18/05/06 10:12:31 INFO mapreduce.Job:  map 36% reduce 0%\n",
      "18/05/06 10:12:37 INFO mapreduce.Job:  map 55% reduce 0%\n",
      "18/05/06 10:12:43 INFO mapreduce.Job:  map 74% reduce 0%\n",
      "18/05/06 10:12:49 INFO mapreduce.Job:  map 93% reduce 0%\n",
      "18/05/06 10:12:51 INFO mapreduce.Job:  map 100% reduce 0%\n",
      "18/05/06 10:12:52 INFO mapreduce.Job: Job job_1525499221321_0004 completed successfully\n",
      "18/05/06 10:12:52 INFO mapreduce.Job: Counters: 32\n",
      "\tFile System Counters\n",
      "\t\tFILE: Number of bytes read=0\n",
      "\t\tFILE: Number of bytes written=278650\n",
      "\t\tFILE: Number of read operations=0\n",
      "\t\tFILE: Number of large read operations=0\n",
      "\t\tFILE: Number of write operations=0\n",
      "\t\tHDFS: Number of bytes read=76874501\n",
      "\t\tHDFS: Number of bytes written=97842427\n",
      "\t\tHDFS: Number of read operations=10\n",
      "\t\tHDFS: Number of large read operations=0\n",
      "\t\tHDFS: Number of write operations=4\n",
      "\tJob Counters \n",
      "\t\tLaunched map tasks=2\n",
      "\t\tData-local map tasks=2\n",
      "\t\tTotal time spent by all maps in occupied slots (ms)=68620\n",
      "\t\tTotal time spent by all reduces in occupied slots (ms)=0\n",
      "\t\tTotal time spent by all map tasks (ms)=68620\n",
      "\t\tTotal vcore-milliseconds taken by all map tasks=68620\n",
      "\t\tTotal megabyte-milliseconds taken by all map tasks=70266880\n",
      "\tMap-Reduce Framework\n",
      "\t\tMap input records=4100\n",
      "\t\tMap output records=11937375\n",
      "\t\tInput split bytes=228\n",
      "\t\tSpilled Records=0\n",
      "\t\tFailed Shuffles=0\n",
      "\t\tMerged Map outputs=0\n",
      "\t\tGC time elapsed (ms)=817\n",
      "\t\tCPU time spent (ms)=130920\n",
      "\t\tPhysical memory (bytes) snapshot=400400384\n",
      "\t\tVirtual memory (bytes) snapshot=4030365696\n",
      "\t\tTotal committed heap usage (bytes)=311427072\n",
      "\tFile Input Format Counters \n",
      "\t\tBytes Read=76874273\n",
      "\tFile Output Format Counters \n",
      "\t\tBytes Written=97842427\n",
      "\twiki\n",
      "\t\tstop_words=4588771\n",
      "\t\ttotal_words=11937375\n",
      "18/05/06 10:12:52 INFO streaming.StreamJob: Output directory: wordcount_result_stopwords\n"
     ]
    }
   ],
   "source": [
    "%%bash\n",
    "\n",
    "cat output.log | egrep \"*_words\" | python get_stopword_percentage.py\n",
    "cat output.log >&2"
   ]
  }
 ],
 "metadata": {
  "kernelspec": {
   "display_name": "Python 2",
   "language": "python",
   "name": "python2"
  },
  "language_info": {
   "codemirror_mode": {
    "name": "ipython",
    "version": 2
   },
   "file_extension": ".py",
   "mimetype": "text/x-python",
   "name": "python",
   "nbconvert_exporter": "python",
   "pygments_lexer": "ipython2",
   "version": "2.7.12"
  }
 },
 "nbformat": 4,
 "nbformat_minor": 2
}
